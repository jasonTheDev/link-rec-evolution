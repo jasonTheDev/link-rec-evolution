{
  "cells": [
    {
      "attachments": {},
      "cell_type": "markdown",
      "metadata": {},
      "source": [
        "# Graph Evolution\n",
        "\n",
        "Graph evolution for given algorithms and dataset."
      ]
    },
    {
      "cell_type": "code",
      "execution_count": 1,
      "metadata": {
        "id": "z0x0M25pcMnw"
      },
      "outputs": [],
      "source": [
        "import os\n",
        "import urllib.request\n",
        "import random\n",
        "import time\n",
        "import leidenalg\n",
        "import numpy as np\n",
        "import networkx as nx\n",
        "import networkx.algorithms.community as nx_comm\n",
        "import matplotlib.pyplot as plt\n",
        "from igraph import Graph\n",
        "\n",
        "# required helper files\n",
        "import graph_evolution_metrics as metrics\n",
        "\n",
        "# Seed for reproducibility\n",
        "random.seed(42)"
      ]
    },
    {
      "cell_type": "code",
      "execution_count": 2,
      "metadata": {},
      "outputs": [],
      "source": [
        "## CHANGE TO MATCH ALG AND DATASET\n",
        "\n",
        "# Module of alg being used\n",
        "import nodesim as alg\n",
        "\n",
        "# Name of dataset being used\n",
        "# Directed: wiki_vote, congress, email_eu\n",
        "# Undirected: facebook, deezer, lastfm\n",
        "\n",
        "# BASENAME, DIRECTED = \"wiki_vote\", True\n",
        "BASENAME, DIRECTED = \"congress\", True\n",
        "# BASENAME, DIRECTED = \"email_eu\", True\n",
        "# BASENAME, DIRECTED = \"facebook\", False\n",
        "# BASENAME, DIRECTED = \"deezer\", False\n",
        "# BASENAME, DIRECTED = \"lastfm\", False"
      ]
    },
    {
      "cell_type": "code",
      "execution_count": 3,
      "metadata": {},
      "outputs": [],
      "source": [
        "## PARAMS\n",
        "\n",
        "# Graph Evolution\n",
        "ITERATIONS = 30\n",
        "\n",
        "# Community Detection Threshold\n",
        "COMM_THRESHOLD = 2"
      ]
    },
    {
      "cell_type": "code",
      "execution_count": 4,
      "metadata": {},
      "outputs": [],
      "source": [
        "# Constants for I/O\n",
        "INPUT_DIR = \"input\"\n",
        "OUTPUT_DIR = \"data\"\n",
        "\n",
        "OUTPUT_PREFIX = BASENAME + \".\" + alg.__name__\n",
        "\n",
        "CLUSTERING_PATH = os.path.join(OUTPUT_DIR, OUTPUT_PREFIX + \".clu\")\n",
        "GINI_PATH = os.path.join(OUTPUT_DIR, OUTPUT_PREFIX + \".gin\")\n",
        "VISIBILITY_PATH = os.path.join(OUTPUT_DIR, OUTPUT_PREFIX + \".vis\")\n",
        "SUMMARY_PATH = os.path.join(OUTPUT_DIR, OUTPUT_PREFIX + \".sum\")\n",
        "PLOT_PATH = os.path.join(OUTPUT_DIR, OUTPUT_PREFIX + \".png\")\n",
        "\n",
        "EDGELIST = BASENAME + \".txt\"\n",
        "EDGELIST_PATH = os.path.join(INPUT_DIR, EDGELIST)"
      ]
    },
    {
      "cell_type": "code",
      "execution_count": 5,
      "metadata": {},
      "outputs": [],
      "source": [
        "# Consistant API for directed and undirected graphs\n",
        "\n",
        "class UndirectedGraph(nx.Graph):\n",
        "    \"\"\"\n",
        "    Wrapper for NetworkX undirected graph.\n",
        "    \"\"\"\n",
        "    def successors(self, node):\n",
        "        return self.neighbors(node)\n",
        "\n",
        "    def in_degree(self, node):\n",
        "        return self.degree(node)\n",
        "        \n",
        "    def out_degree(self, node):\n",
        "        return self.degree(node)\n",
        "    \n",
        "    def get_communities(self):\n",
        "        return nx_comm.louvain_communities(self)\n",
        "\n",
        "\n",
        "class DirectedGraph(nx.DiGraph):\n",
        "    \"\"\"\n",
        "    Wrapper for NetworkX directed graph.\n",
        "    \"\"\"\n",
        "    def get_communities(self):\n",
        "        # convert to igraph\n",
        "        G_igraph = Graph.TupleList(self.edges(), directed=True)\n",
        "        part = leidenalg.find_partition(G_igraph, leidenalg.ModularityVertexPartition)\n",
        "\n",
        "        # dict\n",
        "        comms_dict = {}\n",
        "        for i, comm in enumerate(part.membership):\n",
        "            if comm not in comms_dict:\n",
        "                comms_dict[comm] = []\n",
        "            comms_dict[comm].append(i)\n",
        "\n",
        "        # list\n",
        "        comms = []\n",
        "        for comm in comms_dict.values():\n",
        "            comms.append(comm)\n",
        "        \n",
        "        return comms"
      ]
    },
    {
      "cell_type": "code",
      "execution_count": 6,
      "metadata": {},
      "outputs": [
        {
          "name": "stdout",
          "output_type": "stream",
          "text": [
            "DirectedGraph with 475 nodes and 13289 edges\n"
          ]
        }
      ],
      "source": [
        "if DIRECTED:\n",
        "    init_g = nx.read_edgelist(EDGELIST_PATH, create_using=nx.DiGraph(), nodetype=int)\n",
        "    init_g = DirectedGraph(init_g)\n",
        "else:\n",
        "    init_g = nx.read_edgelist(EDGELIST_PATH, create_using=nx.Graph(), nodetype=int)\n",
        "    init_g = UndirectedGraph(init_g)\n",
        "print(init_g)"
      ]
    },
    {
      "attachments": {},
      "cell_type": "markdown",
      "metadata": {},
      "source": [
        "## Network Evolution Following Wagner's Methods"
      ]
    },
    {
      "cell_type": "code",
      "execution_count": 7,
      "metadata": {},
      "outputs": [],
      "source": [
        "def random_edge_per_node(nx_g):\n",
        "    \"\"\"\n",
        "    Returns a list of random outgoing edges per node\n",
        "    where both nodes have degree > 1.\n",
        "    \"\"\"\n",
        "    removals = []\n",
        "    nodes = list(nx_g.nodes())\n",
        "    random.shuffle(nodes)\n",
        "    for node in nodes:\n",
        "        if nx_g.out_degree(node) > 1:\n",
        "            successors = list(nx_g.successors(node))\n",
        "            random.shuffle(successors)\n",
        "            for successor in successors:\n",
        "                if nx_g.in_degree(successor) > 1:\n",
        "                    removals.append((node, successor))\n",
        "                    break\n",
        "    return removals\n",
        "\n",
        "    \n",
        "# IMPORTANT: we do deletions to keep a baseline for the clustering coefficient and \n",
        "# see the effect of the algorithm on the graphs structure\n",
        "def evolve_network(nx_g, minority_nodes):\n",
        "    \"\"\"\n",
        "    Iteratively evolve the network by adding and removing edges.\n",
        "    \"\"\"\n",
        "    # initial metrics\n",
        "    ginis = [metrics.gini_of_degree_distribution(nx_g)]\n",
        "    clusters = [nx.average_clustering(nx_g)]\n",
        "    visibilities = [metrics.pagerank_visibility(nx_g, minority_nodes)]\n",
        "\n",
        "    # prepare for algorithm\n",
        "    nx_g = alg.initialize(nx_g)\n",
        "\n",
        "    print(\"Iteration\")\n",
        "    print(f\"0: {nx_g}\")\n",
        "\n",
        "    for i in range(1, ITERATIONS+1):\n",
        "\n",
        "        predictions = alg.predict(nx_g)\n",
        "        nx_g.add_edges_from(predictions)\n",
        "\n",
        "        removals = random_edge_per_node(nx_g)\n",
        "        nx_g.remove_edges_from(removals)\n",
        "\n",
        "        # compute metrics\n",
        "        ginis.append(metrics.gini_of_degree_distribution(nx_g))\n",
        "        clusters.append(metrics.average_clustering(nx_g))\n",
        "        visibilities.append(metrics.pagerank_visibility(nx_g, minority_nodes))\n",
        "  \n",
        "        if i % 2 == 0:\n",
        "            print(f\"{i}: {nx_g}\")\n",
        "    \n",
        "    return ginis, clusters, visibilities"
      ]
    },
    {
      "cell_type": "code",
      "execution_count": 8,
      "metadata": {},
      "outputs": [
        {
          "name": "stdout",
          "output_type": "stream",
          "text": [
            "Median size of communities:  176.0\n",
            "Minority size: 93\n",
            "Majority size: 382\n"
          ]
        }
      ],
      "source": [
        "# find the minority nodes\n",
        "comms = init_g.get_communities()\n",
        "\n",
        "comms_above_threshold = [c for c in comms if len(c) > COMM_THRESHOLD]\n",
        "\n",
        "# find the median size of the communities\n",
        "median_size = np.median([len(c) for c in comms_above_threshold])\n",
        "\n",
        "minority_nodes = []\n",
        "majority_nodes = []\n",
        "\n",
        "for comm in comms:\n",
        "    if len(comm) < median_size:\n",
        "        minority_nodes.extend(comm)\n",
        "    else:\n",
        "        majority_nodes.extend(comm)\n",
        "\n",
        "print(\"Median size of communities: \", median_size)\n",
        "print(f\"Minority size: {len(minority_nodes)}\")\n",
        "print(f\"Majority size: {len(majority_nodes)}\")"
      ]
    },
    {
      "cell_type": "code",
      "execution_count": 9,
      "metadata": {},
      "outputs": [
        {
          "name": "stdout",
          "output_type": "stream",
          "text": [
            "Iteration\n",
            "0: DirectedGraph with 475 nodes and 13289 edges\n",
            "2: DirectedGraph with 475 nodes and 13289 edges\n",
            "4: DirectedGraph with 475 nodes and 13289 edges\n",
            "6: DirectedGraph with 475 nodes and 13289 edges\n",
            "8: DirectedGraph with 475 nodes and 13289 edges\n",
            "10: DirectedGraph with 475 nodes and 13289 edges\n",
            "12: DirectedGraph with 475 nodes and 13289 edges\n",
            "14: DirectedGraph with 475 nodes and 13289 edges\n",
            "16: DirectedGraph with 475 nodes and 13289 edges\n",
            "18: DirectedGraph with 475 nodes and 13289 edges\n",
            "20: DirectedGraph with 475 nodes and 13289 edges\n",
            "22: DirectedGraph with 475 nodes and 13289 edges\n",
            "24: DirectedGraph with 475 nodes and 13289 edges\n",
            "26: DirectedGraph with 475 nodes and 13289 edges\n",
            "28: DirectedGraph with 475 nodes and 13289 edges\n",
            "30: DirectedGraph with 475 nodes and 13289 edges\n",
            "Time elapsed: 61.54770374298096\n"
          ]
        }
      ],
      "source": [
        "# evolve the network\n",
        "start = time.time()\n",
        "ginis, clusters, visibilities = evolve_network(init_g, minority_nodes)\n",
        "end = time.time()\n",
        "print(f\"Time elapsed: {end - start}\")"
      ]
    },
    {
      "attachments": {},
      "cell_type": "markdown",
      "metadata": {},
      "source": [
        "## Results\n",
        "### Coefficients"
      ]
    },
    {
      "cell_type": "code",
      "execution_count": 10,
      "metadata": {},
      "outputs": [
        {
          "data": {
            "image/png": "[encoded data removed]",
            "text/plain": [
              "<Figure size 1500x500 with 3 Axes>"
            ]
          },
          "metadata": {},
          "output_type": "display_data"
        }
      ],
      "source": [
        "# plot data\n",
        "metrics.plot_to_file(PLOT_PATH, ginis, clusters, visibilities)"
      ]
    },
    {
      "cell_type": "markdown",
      "metadata": {},
      "source": [
        "## Write to Files"
      ]
    },
    {
      "cell_type": "code",
      "execution_count": 11,
      "metadata": {},
      "outputs": [],
      "source": [
        "# write gini_coefficient to file\n",
        "metrics.list_to_file(GINI_PATH, ginis)"
      ]
    },
    {
      "cell_type": "code",
      "execution_count": 12,
      "metadata": {},
      "outputs": [],
      "source": [
        "# write gini_coefficient to file\n",
        "metrics.list_to_file(CLUSTERING_PATH, clusters)"
      ]
    },
    {
      "cell_type": "code",
      "execution_count": 13,
      "metadata": {},
      "outputs": [],
      "source": [
        "# write visibilities to file\n",
        "metrics.list_to_file(VISIBILITY_PATH, visibilities)"
      ]
    },
    {
      "cell_type": "code",
      "execution_count": 14,
      "metadata": {},
      "outputs": [],
      "source": [
        "with open(SUMMARY_PATH, 'w') as f:\n",
        "    f.write(f\"Iterations: {ITERATIONS}\\n\")\n",
        "    f.write(f\"Total number of nodes: {init_g.number_of_nodes()}\\n\")\n",
        "    f.write(f\"Number of communities detected: {len(comms)}\\n\")\n",
        "    f.write(f\"Number of communities above threshold: {len(comms_above_threshold)}\\n\")\n",
        "    f.write(f\"Median size of communities above threshold: {median_size}\\n\")\n",
        "    f.write(f\"Minority size: {len(minority_nodes)}\\n\")"
      ]
    }
  ],
  "metadata": {
    "colab": {
      "provenance": []
    },
    "kernelspec": {
      "display_name": "Python 3",
      "name": "python3"
    },
    "language_info": {
      "codemirror_mode": {
        "name": "ipython",
        "version": 3
      },
      "file_extension": ".py",
      "mimetype": "text/x-python",
      "name": "python",
      "nbconvert_exporter": "python",
      "pygments_lexer": "ipython3",
      "version": "3.11.4"
    }
  },
  "nbformat": 4,
  "nbformat_minor": 0
}
