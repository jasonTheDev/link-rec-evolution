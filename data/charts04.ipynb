{
 "cells": [
  {
   "cell_type": "code",
   "execution_count": 24,
   "metadata": {},
   "outputs": [
    {
     "name": "stdout",
     "output_type": "stream",
     "text": [
      "['facebook', 'wagner', 'nodesim', 'alpha1', '0', 'beta2', '0', 'vis']\n",
      "['facebook', 'wagner', 'nodesim', 'alpha1', '0', 'beta3', '0', 'vis']\n",
      "['facebook', 'wagner', 'nodesim', 'alpha1', '0', 'beta4', '0', 'vis']\n",
      "P           2.0       3.0       4.0\n",
      "Alpha                              \n",
      "1.0    0.121588  0.086849  0.119107\n"
     ]
    }
   ],
   "source": [
    "import os\n",
    "import pandas as pd\n",
    "\n",
    "alg = 'facebook.wagner.nodesim.alpha'\n",
    "suff = 'vis'\n",
    "\n",
    "# Directory containing the files\n",
    "directory = '15percent'\n",
    "\n",
    "# Initialize an empty dictionary to store data\n",
    "data = {}\n",
    "\n",
    "# Iterate over files in the directory\n",
    "for filename in os.listdir(directory):\n",
    "    if filename.startswith(f'{alg}') and filename.endswith(f'.{suff}'):\n",
    "        # Extract alpha and p values from the filename\n",
    "        parts = filename.split('.')\n",
    "        print(parts)\n",
    "        alpha = float(parts[3][-1] + '.' + parts[4])  # Extract and convert alpha value\n",
    "        p = float(parts[5][-1] + '.' + parts[6])      # Extract and convert p value\n",
    "\n",
    "        # Read the last line from the file\n",
    "        with open(os.path.join(directory, filename), 'r') as file:\n",
    "            for last_line in file:\n",
    "                pass\n",
    "            last_value = float(last_line.strip())\n",
    "\n",
    "        # Store the value in the data dictionary\n",
    "        data[(alpha, p)] = last_value\n",
    "\n",
    "# Create a pandas DataFrame from the dictionary\n",
    "df = pd.DataFrame(list(data.items()), columns=['Alpha_P', 'Value'])\n",
    "df[['Alpha', 'P']] = pd.DataFrame(df['Alpha_P'].tolist(), index=df.index)\n",
    "df = df.pivot(index='Alpha', columns='P', values='Value')\n",
    "\n",
    "print(df)\n"
   ]
  }
 ],
 "metadata": {
  "kernelspec": {
   "display_name": "base",
   "language": "python",
   "name": "python3"
  },
  "language_info": {
   "codemirror_mode": {
    "name": "ipython",
    "version": 3
   },
   "file_extension": ".py",
   "mimetype": "text/x-python",
   "name": "python",
   "nbconvert_exporter": "python",
   "pygments_lexer": "ipython3",
   "version": "3.9.13"
  }
 },
 "nbformat": 4,
 "nbformat_minor": 2
}
