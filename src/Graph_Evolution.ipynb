{
  "cells": [
    {
      "attachments": {},
      "cell_type": "markdown",
      "metadata": {},
      "source": [
        "# Graph Evolution\n",
        "\n",
        "Graph evolution for given algorithms and dataset."
      ]
    },
    {
      "cell_type": "code",
      "execution_count": null,
      "metadata": {
        "id": "z0x0M25pcMnw"
      },
      "outputs": [],
      "source": [
        "import os\n",
        "import random\n",
        "import time\n",
        "import numpy as np\n",
        "import networkx as nx\n",
        "\n",
        "# local imports\n",
        "import graph_evolution_metrics as metrics\n",
        "\n",
        "# Seed for reproducibility\n",
        "random.seed(42)"
      ]
    },
    {
      "cell_type": "code",
      "execution_count": null,
      "metadata": {},
      "outputs": [],
      "source": [
        "## CHANGE TO MATCH ALG AND DATASET\n",
        "\n",
        "# Module of alg being used\n",
        "import node2vec as alg\n",
        "import random_removal_per_node as rm\n",
        "\n",
        "# Name of dataset being used\n",
        "# Directed: wiki_vote, congress, email_eu\n",
        "# Undirected: facebook, deezer, lastfm\n",
        "\n",
        "# BASENAME, DIRECTED = \"congress\", True\n",
        "# BASENAME, DIRECTED = \"email_eu\", True\n",
        "# BASENAME, DIRECTED = \"wiki_vote\", True\n",
        "BASENAME, DIRECTED = \"facebook\", False\n",
        "# BASENAME, DIRECTED = \"lastfm\", False\n",
        "# BASENAME, DIRECTED = \"deezer\", False\n"
      ]
    },
    {
      "cell_type": "code",
      "execution_count": null,
      "metadata": {},
      "outputs": [],
      "source": [
        "# Graph Evolution\n",
        "ITERATIONS = 5\n",
        "\n",
        "# Metrics\n",
        "VISIBILITY_RATIO = 0.1"
      ]
    },
    {
      "cell_type": "code",
      "execution_count": null,
      "metadata": {},
      "outputs": [],
      "source": [
        "# Constants for I/O\n",
        "INPUT_DIR = \"../input\"\n",
        "OUTPUT_DIR = \"../data\"\n",
        "\n",
        "OUTPUT_PREFIX = BASENAME + \".\" + alg.__name__\n",
        "\n",
        "EDGELIST = BASENAME + \".txt\"\n",
        "MINORITIES = BASENAME + \".minorities\"\n",
        "EDGELIST_PATH = os.path.join(INPUT_DIR, EDGELIST)\n",
        "MINORITIES_PATH = os.path.join(INPUT_DIR, MINORITIES)"
      ]
    },
    {
      "cell_type": "code",
      "execution_count": null,
      "metadata": {},
      "outputs": [],
      "source": [
        "init_g = nx.read_edgelist(EDGELIST_PATH, create_using=nx.DiGraph(), nodetype=int)\n",
        "\n",
        "if not DIRECTED:\n",
        "    # keep as DiGraph but add edges in opposite direction\n",
        "    init_g.add_edges_from([(v, u) for u, v in init_g.edges()])"
      ]
    },
    {
      "attachments": {},
      "cell_type": "markdown",
      "metadata": {},
      "source": [
        "## Network Evolution Following Wagner's Methods"
      ]
    },
    {
      "cell_type": "code",
      "execution_count": null,
      "metadata": {},
      "outputs": [],
      "source": [
        "def add_edges(nx_g, edges):\n",
        "    \"\"\"\n",
        "    Adds edges to given graph.\n",
        "    \"\"\"\n",
        "    nx_g.add_edges_from(edges)\n",
        "    if not DIRECTED:\n",
        "        nx_g.add_edges_from([(v, u) for (u, v) in edges])\n",
        "\n",
        "\n",
        "def remove_edges(nx_g, edges):\n",
        "    \"\"\"\n",
        "    Removes edges from given graph.\n",
        "    \"\"\"\n",
        "    nx_g.remove_edges_from(edges)\n",
        "    if not DIRECTED:\n",
        "        nx_g.remove_edges_from([(v, u) for (u, v) in edges])\n",
        "\n",
        "    \n",
        "# IMPORTANT: we do deletions to keep a baseline for the clustering coefficient and \n",
        "# see the effect of the algorithm on the graphs structure\n",
        "def evolve_network(nx_g, minorities):\n",
        "    \"\"\"\n",
        "    Iteratively evolve the network by adding and removing edges.\n",
        "    \"\"\"\n",
        "    # initialize algorithm\n",
        "    nx_g = alg.initialize(nx_g, directed=DIRECTED, protected=minorities)\n",
        "\n",
        "    # initialize recorder for metrics\n",
        "    recorder = metrics.Recorder(directed=DIRECTED,\n",
        "                            protected=minorities,\n",
        "                            visibility_ratio=VISIBILITY_RATIO,\n",
        "                            output_dir=OUTPUT_DIR,\n",
        "                            output_prefix=OUTPUT_PREFIX)\n",
        "    \n",
        "    # initial metrics\n",
        "    recorder.clear_files()\n",
        "    recorder.record_metrics(nx_g)\n",
        "\n",
        "    print(\"Iteration\")\n",
        "    print(f\"0: {nx_g}\")\n",
        "\n",
        "    for i in range(1, ITERATIONS+1):\n",
        "\n",
        "        predictions = alg.predict(nx_g, directed=DIRECTED)\n",
        "        add_edges(nx_g, predictions)\n",
        "\n",
        "        removals = rm.removals(nx_g, directed=DIRECTED)\n",
        "        remove_edges(nx_g, removals)\n",
        "\n",
        "        # compute metrics\n",
        "        recorder.record_metrics(nx_g)\n",
        "  \n",
        "        if i % 2 == 0:\n",
        "            print(f\"{i}: {nx_g}\")\n",
        "    \n",
        "    return recorder"
      ]
    },
    {
      "cell_type": "code",
      "execution_count": null,
      "metadata": {},
      "outputs": [],
      "source": [
        "minorities = []\n",
        "with open(MINORITIES_PATH, \"r\") as f:\n",
        "    for line in f:\n",
        "        node = int(line.strip())\n",
        "        minorities.append(node)\n",
        "\n",
        "print(f\"Minority size: {len(minorities)}\")"
      ]
    },
    {
      "cell_type": "code",
      "execution_count": 8,
      "metadata": {},
      "outputs": [],
      "source": [
        "# evolve the network\n",
        "start = time.time()\n",
        "recorder = evolve_network(init_g, minorities)\n",
        "end = time.time()\n",
        "print(f\"Time elapsed: {end - start}\")"
      ]
    },
    {
      "cell_type": "markdown",
      "metadata": {},
      "source": [
        "## Summary"
      ]
    },
    {
      "cell_type": "code",
      "execution_count": null,
      "metadata": {},
      "outputs": [],
      "source": [
        "# plot data\n",
        "recorder.plot_metrics()"
      ]
    }
  ],
  "metadata": {
    "colab": {
      "provenance": []
    },
    "kernelspec": {
      "display_name": "Python 3",
      "name": "python3"
    },
    "language_info": {
      "codemirror_mode": {
        "name": "ipython",
        "version": 3
      },
      "file_extension": ".py",
      "mimetype": "text/x-python",
      "name": "python",
      "nbconvert_exporter": "python",
      "pygments_lexer": "ipython3",
      "version": "3.11.4"
    }
  },
  "nbformat": 4,
  "nbformat_minor": 0
}
