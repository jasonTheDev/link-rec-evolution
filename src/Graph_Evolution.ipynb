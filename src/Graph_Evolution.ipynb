{
  "cells": [
    {
      "attachments": {},
      "cell_type": "markdown",
      "metadata": {},
      "source": [
        "# Graph Evolution\n",
        "\n",
        "Graph evolution for given algorithms and dataset."
      ]
    },
    {
      "cell_type": "code",
      "execution_count": 1,
      "metadata": {
        "id": "z0x0M25pcMnw"
      },
      "outputs": [],
      "source": [
        "import os\n",
        "import random\n",
        "import time\n",
        "import numpy as np\n",
        "import networkx as nx\n",
        "\n",
        "# local imports\n",
        "import graph_evolution_metrics as metrics\n",
        "\n",
        "# Seed for reproducibility\n",
        "random.seed(42)"
      ]
    },
    {
      "cell_type": "code",
      "execution_count": 2,
      "metadata": {},
      "outputs": [],
      "source": [
        "## CHANGE TO MATCH ALG AND DATASET\n",
        "\n",
        "# Module of alg being used\n",
        "import personalized_pagerank as alg\n",
        "import random_removal_per_node as rm\n",
        "\n",
        "# Name of dataset being used\n",
        "# Directed: wiki_vote, congress, email_eu\n",
        "# Undirected: facebook, deezer, lastfm\n",
        "\n",
        "BASENAME, DIRECTED = \"congress\", True\n",
        "# BASENAME, DIRECTED = \"email_eu\", True\n",
        "# BASENAME, DIRECTED = \"wiki_vote\", True\n",
        "# BASENAME, DIRECTED = \"facebook\", False\n",
        "# BASENAME, DIRECTED = \"lastfm\", False\n",
        "# BASENAME, DIRECTED = \"deezer\", False\n"
      ]
    },
    {
      "cell_type": "code",
      "execution_count": 3,
      "metadata": {},
      "outputs": [],
      "source": [
        "## PARAMS\n",
        "\n",
        "# Graph Evolution\n",
        "ITERATIONS = 30"
      ]
    },
    {
      "cell_type": "code",
      "execution_count": 4,
      "metadata": {},
      "outputs": [],
      "source": [
        "# Constants for I/O\n",
        "INPUT_DIR = \"../input\"\n",
        "OUTPUT_DIR = \"../data\"\n",
        "\n",
        "OUTPUT_PREFIX = BASENAME + \".\" + alg.__name__\n",
        "\n",
        "EDGELIST = BASENAME + \".txt\"\n",
        "MINORITIES = BASENAME + \".minorities\"\n",
        "EDGELIST_PATH = os.path.join(INPUT_DIR, EDGELIST)\n",
        "MINORITIES_PATH = os.path.join(INPUT_DIR, MINORITIES)"
      ]
    },
    {
      "cell_type": "code",
      "execution_count": 5,
      "metadata": {},
      "outputs": [],
      "source": [
        "init_g = nx.read_edgelist(EDGELIST_PATH, create_using=nx.DiGraph(), nodetype=int)\n",
        "\n",
        "if not DIRECTED:\n",
        "    # keep as DiGraph but add edges in opposite direction\n",
        "    init_g.add_edges_from([(v, u) for u, v in init_g.edges()])"
      ]
    },
    {
      "attachments": {},
      "cell_type": "markdown",
      "metadata": {},
      "source": [
        "## Network Evolution Following Wagner's Methods"
      ]
    },
    {
      "cell_type": "code",
      "execution_count": 6,
      "metadata": {},
      "outputs": [],
      "source": [
        "def add_edges(nx_g, edges):\n",
        "    \"\"\"\n",
        "    Adds edges to given graph.\n",
        "    \"\"\"\n",
        "    nx_g.add_edges_from(edges)\n",
        "    if not DIRECTED:\n",
        "        nx_g.add_edges_from([(v, u) for (u, v) in edges])\n",
        "\n",
        "\n",
        "def remove_edges(nx_g, edges):\n",
        "    \"\"\"\n",
        "    Removes edges from given graph.\n",
        "    \"\"\"\n",
        "    nx_g.remove_edges_from(edges)\n",
        "    if not DIRECTED:\n",
        "        nx_g.remove_edges_from([(v, u) for (u, v) in edges])\n",
        "\n",
        "    \n",
        "# IMPORTANT: we do deletions to keep a baseline for the clustering coefficient and \n",
        "# see the effect of the algorithm on the graphs structure\n",
        "def evolve_network(nx_g, minorities):\n",
        "    \"\"\"\n",
        "    Iteratively evolve the network by adding and removing edges.\n",
        "    \"\"\"\n",
        "    print(\"Iteration\")\n",
        "    print(f\"0: {nx_g}\")\n",
        "\n",
        "    # prepare alg for evolution\n",
        "    nx_g = alg.initialize(nx_g, directed=DIRECTED)\n",
        "\n",
        "    # prepare metrics for evolution\n",
        "    metrics.initialize(nx_g, protected=minorities, directed=DIRECTED, output_dir=OUTPUT_DIR, output_prefix=OUTPUT_PREFIX)\n",
        "    metrics.record_metrics(nx_g)\n",
        "\n",
        "    for i in range(1, ITERATIONS+1):\n",
        "\n",
        "        predictions = alg.predict(nx_g, directed=DIRECTED)\n",
        "        add_edges(nx_g, predictions)\n",
        "\n",
        "        removals = rm.removals(nx_g, directed=DIRECTED)\n",
        "        remove_edges(nx_g, removals)\n",
        "\n",
        "        # compute metrics\n",
        "        metrics.record_metrics(nx_g)\n",
        "  \n",
        "        if i % 2 == 0:\n",
        "            print(f\"{i}: {nx_g}\")\n",
        "    \n",
        "    return ginis, clusters, visibilities"
      ]
    },
    {
      "cell_type": "code",
      "execution_count": 7,
      "metadata": {},
      "outputs": [
        {
          "name": "stdout",
          "output_type": "stream",
          "text": [
            "Minority size: 71\n"
          ]
        }
      ],
      "source": [
        "minorities = []\n",
        "with open(MINORITIES_PATH, \"r\") as f:\n",
        "    for line in f:\n",
        "        node = int(line.strip())\n",
        "        minorities.append(node)\n",
        "\n",
        "print(f\"Minority size: {len(minorities)}\")"
      ]
    },
    {
      "cell_type": "code",
      "execution_count": 8,
      "metadata": {},
      "outputs": [
        {
          "name": "stdout",
          "output_type": "stream",
          "text": [
            "Iteration\n",
            "0: DiGraph with 475 nodes and 13289 edges\n",
            "2: DiGraph with 475 nodes and 13289 edges\n",
            "4: DiGraph with 475 nodes and 13289 edges\n",
            "6: DiGraph with 475 nodes and 13289 edges\n",
            "8: DiGraph with 475 nodes and 13289 edges\n",
            "10: DiGraph with 475 nodes and 13289 edges\n",
            "12: DiGraph with 475 nodes and 13289 edges\n",
            "14: DiGraph with 475 nodes and 13289 edges\n",
            "16: DiGraph with 475 nodes and 13289 edges\n"
          ]
        },
        {
          "ename": "KeyboardInterrupt",
          "evalue": "",
          "output_type": "error",
          "traceback": [
            "\u001b[1;31m---------------------------------------------------------------------------\u001b[0m",
            "\u001b[1;31mKeyboardInterrupt\u001b[0m                         Traceback (most recent call last)",
            "Cell \u001b[1;32mIn[8], line 3\u001b[0m\n\u001b[0;32m      1\u001b[0m \u001b[39m# evolve the network\u001b[39;00m\n\u001b[0;32m      2\u001b[0m start \u001b[39m=\u001b[39m time\u001b[39m.\u001b[39mtime()\n\u001b[1;32m----> 3\u001b[0m ginis, clusters, visibilities \u001b[39m=\u001b[39m evolve_network(init_g, minorities)\n\u001b[0;32m      4\u001b[0m end \u001b[39m=\u001b[39m time\u001b[39m.\u001b[39mtime()\n\u001b[0;32m      5\u001b[0m \u001b[39mprint\u001b[39m(\u001b[39mf\u001b[39m\u001b[39m\"\u001b[39m\u001b[39mTime elapsed: \u001b[39m\u001b[39m{\u001b[39;00mend\u001b[39m \u001b[39m\u001b[39m-\u001b[39m\u001b[39m \u001b[39mstart\u001b[39m}\u001b[39;00m\u001b[39m\"\u001b[39m)\n",
            "Cell \u001b[1;32mIn[6], line 37\u001b[0m, in \u001b[0;36mevolve_network\u001b[1;34m(nx_g, minorities)\u001b[0m\n\u001b[0;32m     33\u001b[0m metrics\u001b[39m.\u001b[39mrecord_metrics(nx_g)\n\u001b[0;32m     35\u001b[0m \u001b[39mfor\u001b[39;00m i \u001b[39min\u001b[39;00m \u001b[39mrange\u001b[39m(\u001b[39m1\u001b[39m, ITERATIONS\u001b[39m+\u001b[39m\u001b[39m1\u001b[39m):\n\u001b[1;32m---> 37\u001b[0m     predictions \u001b[39m=\u001b[39m alg\u001b[39m.\u001b[39;49mpredict(nx_g, directed\u001b[39m=\u001b[39;49mDIRECTED)\n\u001b[0;32m     38\u001b[0m     add_edges(nx_g, predictions)\n\u001b[0;32m     40\u001b[0m     removals \u001b[39m=\u001b[39m rm\u001b[39m.\u001b[39mremovals(nx_g, directed\u001b[39m=\u001b[39mDIRECTED)\n",
            "File \u001b[1;32mc:\\Users\\jmk_b\\dev\\link-rec-evolution\\src\\personalized_pagerank.py:27\u001b[0m, in \u001b[0;36mpredict\u001b[1;34m(G, directed)\u001b[0m\n\u001b[0;32m     24\u001b[0m personalization \u001b[39m=\u001b[39m {node: \u001b[39m1\u001b[39m} \u001b[39m# start node\u001b[39;00m\n\u001b[0;32m     26\u001b[0m \u001b[39m# calculate and sort pagerank scores\u001b[39;00m\n\u001b[1;32m---> 27\u001b[0m pr_scores \u001b[39m=\u001b[39m nx\u001b[39m.\u001b[39;49mpagerank(G, alpha\u001b[39m=\u001b[39;49mALPHA, personalization\u001b[39m=\u001b[39;49mpersonalization, tol\u001b[39m=\u001b[39;49mTOL)\n\u001b[0;32m     28\u001b[0m sorted_scores \u001b[39m=\u001b[39m \u001b[39msorted\u001b[39m(pr_scores\u001b[39m.\u001b[39mitems(), key\u001b[39m=\u001b[39m\u001b[39mlambda\u001b[39;00m x: x[\u001b[39m1\u001b[39m], reverse\u001b[39m=\u001b[39m\u001b[39mTrue\u001b[39;00m)\n\u001b[0;32m     30\u001b[0m neighbors \u001b[39m=\u001b[39m \u001b[39mset\u001b[39m(G\u001b[39m.\u001b[39msuccessors(node))\n",
            "File \u001b[1;32mc:\\Users\\jmk_b\\anaconda3\\envs\\link-rec\\Lib\\site-packages\\networkx\\classes\\backends.py:148\u001b[0m, in \u001b[0;36m_dispatch.<locals>.wrapper\u001b[1;34m(*args, **kwds)\u001b[0m\n\u001b[0;32m    144\u001b[0m         \u001b[39melse\u001b[39;00m:\n\u001b[0;32m    145\u001b[0m             \u001b[39mraise\u001b[39;00m NetworkXNotImplemented(\n\u001b[0;32m    146\u001b[0m                 \u001b[39mf\u001b[39m\u001b[39m\"\u001b[39m\u001b[39m'\u001b[39m\u001b[39m{\u001b[39;00mname\u001b[39m}\u001b[39;00m\u001b[39m'\u001b[39m\u001b[39m not implemented by \u001b[39m\u001b[39m{\u001b[39;00mplugin_name\u001b[39m}\u001b[39;00m\u001b[39m\"\u001b[39m\n\u001b[0;32m    147\u001b[0m             )\n\u001b[1;32m--> 148\u001b[0m \u001b[39mreturn\u001b[39;00m func(\u001b[39m*\u001b[39;49margs, \u001b[39m*\u001b[39;49m\u001b[39m*\u001b[39;49mkwds)\n",
            "File \u001b[1;32mc:\\Users\\jmk_b\\anaconda3\\envs\\link-rec\\Lib\\site-packages\\networkx\\algorithms\\link_analysis\\pagerank_alg.py:110\u001b[0m, in \u001b[0;36mpagerank\u001b[1;34m(G, alpha, personalization, max_iter, tol, nstart, weight, dangling)\u001b[0m\n\u001b[0;32m      9\u001b[0m \u001b[39m@nx\u001b[39m\u001b[39m.\u001b[39m_dispatch\n\u001b[0;32m     10\u001b[0m \u001b[39mdef\u001b[39;00m \u001b[39mpagerank\u001b[39m(\n\u001b[0;32m     11\u001b[0m     G,\n\u001b[1;32m   (...)\u001b[0m\n\u001b[0;32m     18\u001b[0m     dangling\u001b[39m=\u001b[39m\u001b[39mNone\u001b[39;00m,\n\u001b[0;32m     19\u001b[0m ):\n\u001b[0;32m     20\u001b[0m \u001b[39m    \u001b[39m\u001b[39m\"\"\"Returns the PageRank of the nodes in the graph.\u001b[39;00m\n\u001b[0;32m     21\u001b[0m \n\u001b[0;32m     22\u001b[0m \u001b[39m    PageRank computes a ranking of the nodes in the graph G based on\u001b[39;00m\n\u001b[1;32m   (...)\u001b[0m\n\u001b[0;32m    108\u001b[0m \n\u001b[0;32m    109\u001b[0m \u001b[39m    \"\"\"\u001b[39;00m\n\u001b[1;32m--> 110\u001b[0m     \u001b[39mreturn\u001b[39;00m _pagerank_scipy(\n\u001b[0;32m    111\u001b[0m         G, alpha, personalization, max_iter, tol, nstart, weight, dangling\n\u001b[0;32m    112\u001b[0m     )\n",
            "File \u001b[1;32mc:\\Users\\jmk_b\\anaconda3\\envs\\link-rec\\Lib\\site-packages\\networkx\\algorithms\\link_analysis\\pagerank_alg.py:461\u001b[0m, in \u001b[0;36m_pagerank_scipy\u001b[1;34m(G, alpha, personalization, max_iter, tol, nstart, weight, dangling)\u001b[0m\n\u001b[0;32m    458\u001b[0m     \u001b[39mreturn\u001b[39;00m {}\n\u001b[0;32m    460\u001b[0m nodelist \u001b[39m=\u001b[39m \u001b[39mlist\u001b[39m(G)\n\u001b[1;32m--> 461\u001b[0m A \u001b[39m=\u001b[39m nx\u001b[39m.\u001b[39;49mto_scipy_sparse_array(G, nodelist\u001b[39m=\u001b[39;49mnodelist, weight\u001b[39m=\u001b[39;49mweight, dtype\u001b[39m=\u001b[39;49m\u001b[39mfloat\u001b[39;49m)\n\u001b[0;32m    462\u001b[0m S \u001b[39m=\u001b[39m A\u001b[39m.\u001b[39msum(axis\u001b[39m=\u001b[39m\u001b[39m1\u001b[39m)\n\u001b[0;32m    463\u001b[0m S[S \u001b[39m!=\u001b[39m \u001b[39m0\u001b[39m] \u001b[39m=\u001b[39m \u001b[39m1.0\u001b[39m \u001b[39m/\u001b[39m S[S \u001b[39m!=\u001b[39m \u001b[39m0\u001b[39m]\n",
            "File \u001b[1;32mc:\\Users\\jmk_b\\anaconda3\\envs\\link-rec\\Lib\\site-packages\\networkx\\convert_matrix.py:569\u001b[0m, in \u001b[0;36mto_scipy_sparse_array\u001b[1;34m(G, nodelist, dtype, weight, format)\u001b[0m\n\u001b[0;32m    566\u001b[0m         G \u001b[39m=\u001b[39m G\u001b[39m.\u001b[39msubgraph(nodelist)\n\u001b[0;32m    568\u001b[0m index \u001b[39m=\u001b[39m \u001b[39mdict\u001b[39m(\u001b[39mzip\u001b[39m(nodelist, \u001b[39mrange\u001b[39m(nlen)))\n\u001b[1;32m--> 569\u001b[0m coefficients \u001b[39m=\u001b[39m \u001b[39mzip\u001b[39;49m(\n\u001b[0;32m    570\u001b[0m     \u001b[39m*\u001b[39;49m((index[u], index[v], wt) \u001b[39mfor\u001b[39;49;00m u, v, wt \u001b[39min\u001b[39;49;00m G\u001b[39m.\u001b[39;49medges(data\u001b[39m=\u001b[39;49mweight, default\u001b[39m=\u001b[39;49m\u001b[39m1\u001b[39;49m))\n\u001b[0;32m    571\u001b[0m )\n\u001b[0;32m    572\u001b[0m \u001b[39mtry\u001b[39;00m:\n\u001b[0;32m    573\u001b[0m     row, col, data \u001b[39m=\u001b[39m coefficients\n",
            "File \u001b[1;32mc:\\Users\\jmk_b\\anaconda3\\envs\\link-rec\\Lib\\site-packages\\networkx\\convert_matrix.py:570\u001b[0m, in \u001b[0;36m<genexpr>\u001b[1;34m(.0)\u001b[0m\n\u001b[0;32m    566\u001b[0m         G \u001b[39m=\u001b[39m G\u001b[39m.\u001b[39msubgraph(nodelist)\n\u001b[0;32m    568\u001b[0m index \u001b[39m=\u001b[39m \u001b[39mdict\u001b[39m(\u001b[39mzip\u001b[39m(nodelist, \u001b[39mrange\u001b[39m(nlen)))\n\u001b[0;32m    569\u001b[0m coefficients \u001b[39m=\u001b[39m \u001b[39mzip\u001b[39m(\n\u001b[1;32m--> 570\u001b[0m     \u001b[39m*\u001b[39m((index[u], index[v], wt) \u001b[39mfor\u001b[39;00m u, v, wt \u001b[39min\u001b[39;00m G\u001b[39m.\u001b[39medges(data\u001b[39m=\u001b[39mweight, default\u001b[39m=\u001b[39m\u001b[39m1\u001b[39m))\n\u001b[0;32m    571\u001b[0m )\n\u001b[0;32m    572\u001b[0m \u001b[39mtry\u001b[39;00m:\n\u001b[0;32m    573\u001b[0m     row, col, data \u001b[39m=\u001b[39m coefficients\n",
            "\u001b[1;31mKeyboardInterrupt\u001b[0m: "
          ]
        }
      ],
      "source": [
        "# evolve the network\n",
        "start = time.time()\n",
        "ginis, clusters, visibilities = evolve_network(init_g, minorities)\n",
        "end = time.time()\n",
        "print(f\"Time elapsed: {end - start}\")"
      ]
    },
    {
      "cell_type": "markdown",
      "metadata": {},
      "source": [
        "## Write to Files"
      ]
    },
    {
      "cell_type": "code",
      "execution_count": null,
      "metadata": {},
      "outputs": [],
      "source": [
        "# plot data\n",
        "metrics.plot_to_file(PLOT_PATH, ginis, clusters, visibilities)"
      ]
    },
    {
      "cell_type": "code",
      "execution_count": null,
      "metadata": {},
      "outputs": [],
      "source": [
        "# write gini_coefficient to file\n",
        "metrics.list_to_file(GINI_PATH, ginis)"
      ]
    },
    {
      "cell_type": "code",
      "execution_count": null,
      "metadata": {},
      "outputs": [],
      "source": [
        "# write gini_coefficient to file\n",
        "metrics.list_to_file(CLUSTERING_PATH, clusters)"
      ]
    },
    {
      "cell_type": "code",
      "execution_count": null,
      "metadata": {},
      "outputs": [],
      "source": [
        "# write visibilities to file\n",
        "metrics.list_to_file(VISIBILITY_PATH, visibilities)"
      ]
    },
    {
      "cell_type": "code",
      "execution_count": null,
      "metadata": {},
      "outputs": [],
      "source": [
        "with open(SUMMARY_PATH, 'w') as f:\n",
        "    f.write(f\"Iterations: {ITERATIONS}\\n\")\n",
        "    f.write(f\"Removals: {rm.__name__}\\n\")\n",
        "    f.write(f\"Predictions: {alg.__name__}\\n\")\n",
        "    f.write(f\"Total number of nodes: {init_g.number_of_nodes()}\\n\")\n",
        "    f.write(f\"Minority size: {len(minorities)}\\n\")"
      ]
    }
  ],
  "metadata": {
    "colab": {
      "provenance": []
    },
    "kernelspec": {
      "display_name": "Python 3",
      "name": "python3"
    },
    "language_info": {
      "codemirror_mode": {
        "name": "ipython",
        "version": 3
      },
      "file_extension": ".py",
      "mimetype": "text/x-python",
      "name": "python",
      "nbconvert_exporter": "python",
      "pygments_lexer": "ipython3",
      "version": "3.11.4"
    }
  },
  "nbformat": 4,
  "nbformat_minor": 0
}
