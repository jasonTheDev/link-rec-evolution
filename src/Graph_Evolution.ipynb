{
  "cells": [
    {
      "attachments": {},
      "cell_type": "markdown",
      "metadata": {},
      "source": [
        "# Graph Evolution\n",
        "\n",
        "Graph evolution for given algorithms and dataset."
      ]
    },
    {
      "cell_type": "code",
      "execution_count": 1,
      "metadata": {
        "id": "z0x0M25pcMnw"
      },
      "outputs": [],
      "source": [
        "import os\n",
        "import random\n",
        "import time\n",
        "import numpy as np\n",
        "import networkx as nx\n",
        "\n",
        "# local imports\n",
        "import graph_evolution_metrics as metrics\n",
        "\n",
        "# Seed for reproducibility\n",
        "random.seed(42)"
      ]
    },
    {
      "cell_type": "code",
      "execution_count": 2,
      "metadata": {},
      "outputs": [],
      "source": [
        "## CHANGE TO MATCH ALG AND DATASET\n",
        "\n",
        "# Module of alg being used\n",
        "import node2vec as alg\n",
        "import random_removal_per_node as rm\n",
        "\n",
        "# Name of dataset being used\n",
        "# Directed: wiki_vote, congress, email_eu\n",
        "# Undirected: facebook, deezer, lastfm\n",
        "\n",
        "BASENAME, DIRECTED = \"congress\", True\n",
        "# BASENAME, DIRECTED = \"email_eu\", True\n",
        "# BASENAME, DIRECTED = \"wiki_vote\", True\n",
        "# BASENAME, DIRECTED = \"facebook\", False\n",
        "# BASENAME, DIRECTED = \"lastfm\", False\n",
        "# BASENAME, DIRECTED = \"deezer\", False\n"
      ]
    },
    {
      "cell_type": "code",
      "execution_count": 3,
      "metadata": {},
      "outputs": [],
      "source": [
        "## PARAMS\n",
        "\n",
        "# Graph Evolution\n",
        "ITERATIONS = 30"
      ]
    },
    {
      "cell_type": "code",
      "execution_count": 4,
      "metadata": {},
      "outputs": [],
      "source": [
        "# Constants for I/O\n",
        "INPUT_DIR = \"../input\"\n",
        "OUTPUT_DIR = \"../data\"\n",
        "\n",
        "OUTPUT_PREFIX = BASENAME + \".\" + alg.__name__\n",
        "\n",
        "EDGELIST = BASENAME + \".txt\"\n",
        "MINORITIES = BASENAME + \".minorities\"\n",
        "EDGELIST_PATH = os.path.join(INPUT_DIR, EDGELIST)\n",
        "MINORITIES_PATH = os.path.join(INPUT_DIR, MINORITIES)"
      ]
    },
    {
      "cell_type": "code",
      "execution_count": 5,
      "metadata": {},
      "outputs": [],
      "source": [
        "init_g = nx.read_edgelist(EDGELIST_PATH, create_using=nx.DiGraph(), nodetype=int)\n",
        "\n",
        "if not DIRECTED:\n",
        "    # keep as DiGraph but add edges in opposite direction\n",
        "    init_g.add_edges_from([(v, u) for u, v in init_g.edges()])"
      ]
    },
    {
      "attachments": {},
      "cell_type": "markdown",
      "metadata": {},
      "source": [
        "## Network Evolution Following Wagner's Methods"
      ]
    },
    {
      "cell_type": "code",
      "execution_count": 6,
      "metadata": {},
      "outputs": [],
      "source": [
        "def add_edges(nx_g, edges):\n",
        "    \"\"\"\n",
        "    Adds edges to given graph.\n",
        "    \"\"\"\n",
        "    nx_g.add_edges_from(edges)\n",
        "    if not DIRECTED:\n",
        "        nx_g.add_edges_from([(v, u) for (u, v) in edges])\n",
        "\n",
        "\n",
        "def remove_edges(nx_g, edges):\n",
        "    \"\"\"\n",
        "    Removes edges from given graph.\n",
        "    \"\"\"\n",
        "    nx_g.remove_edges_from(edges)\n",
        "    if not DIRECTED:\n",
        "        nx_g.remove_edges_from([(v, u) for (u, v) in edges])\n",
        "\n",
        "    \n",
        "# IMPORTANT: we do deletions to keep a baseline for the clustering coefficient and \n",
        "# see the effect of the algorithm on the graphs structure\n",
        "def evolve_network(nx_g, minorities):\n",
        "    \"\"\"\n",
        "    Iteratively evolve the network by adding and removing edges.\n",
        "    \"\"\"\n",
<<<<<<< HEAD
=======
        "    # initial metrics\n",
        "    ginis = [metrics.gini_of_degree_distribution(nx_g)]\n",
        "    clusters = [nx.average_clustering(nx_g)]\n",
        "    visibilities = []\n",
        "    if DIRECTED:\n",
        "        visibilities.append(metrics.pagerank_visibility(nx_g, minorities))\n",
        "    else:\n",
        "        visibilities.append(metrics.eigenvector_visibility(nx_g, minorities))\n",
        "\n",
        "    # prepare for algorithm\n",
        "    nx_g = alg.initialize(nx_g, directed=DIRECTED, protected=minorities)\n",
        "\n",
>>>>>>> main
        "    print(\"Iteration\")\n",
        "    print(f\"0: {nx_g}\")\n",
        "\n",
        "    # prepare alg for evolution\n",
        "    nx_g = alg.initialize(nx_g, directed=DIRECTED, protected=minorities)\n",
        "\n",
        "    # prepare metrics for evolution\n",
        "    metrics.initialize(nx_g, protected=minorities, directed=DIRECTED, output_dir=OUTPUT_DIR, output_prefix=OUTPUT_PREFIX)\n",
        "    metrics.record_metrics(nx_g)\n",
        "\n",
        "    for i in range(1, ITERATIONS+1):\n",
        "\n",
        "        predictions = alg.predict(nx_g, directed=DIRECTED)\n",
        "        add_edges(nx_g, predictions)\n",
        "\n",
        "        removals = rm.removals(nx_g, directed=DIRECTED)\n",
        "        remove_edges(nx_g, removals)\n",
        "\n",
        "        # compute metrics\n",
<<<<<<< HEAD
        "        metrics.record_metrics(nx_g)\n",
=======
        "        ginis.append(metrics.gini_of_degree_distribution(nx_g))\n",
        "        clusters.append(metrics.average_clustering(nx_g))\n",
        "        if DIRECTED:\n",
        "            visibilities.append(metrics.pagerank_visibility(nx_g, minorities))\n",
        "        else:\n",
        "            visibilities.append(metrics.eigenvector_visibility(nx_g, minorities))\n",
>>>>>>> main
        "  \n",
        "        if i % 2 == 0:\n",
        "            print(f\"{i}: {nx_g}\")\n",
        "    \n",
        "    return nx_g"
      ]
    },
    {
      "cell_type": "code",
      "execution_count": 7,
      "metadata": {},
      "outputs": [
        {
          "name": "stdout",
          "output_type": "stream",
          "text": [
            "Minority size: 71\n"
          ]
        }
      ],
      "source": [
        "minorities = []\n",
        "with open(MINORITIES_PATH, \"r\") as f:\n",
        "    for line in f:\n",
        "        node = int(line.strip())\n",
        "        minorities.append(node)\n",
        "\n",
        "print(f\"Minority size: {len(minorities)}\")"
      ]
    },
    {
      "cell_type": "code",
      "execution_count": 8,
      "metadata": {},
      "outputs": [
        {
          "name": "stdout",
          "output_type": "stream",
          "text": [
            "Iteration\n",
            "0: DiGraph with 475 nodes and 13289 edges\n",
            "2: DiGraph with 475 nodes and 13289 edges\n",
            "4: DiGraph with 475 nodes and 13289 edges\n",
            "6: DiGraph with 475 nodes and 13289 edges\n",
            "8: DiGraph with 475 nodes and 13289 edges\n",
            "10: DiGraph with 475 nodes and 13289 edges\n",
            "12: DiGraph with 475 nodes and 13289 edges\n",
            "14: DiGraph with 475 nodes and 13289 edges\n",
            "16: DiGraph with 475 nodes and 13289 edges\n",
            "18: DiGraph with 475 nodes and 13289 edges\n",
            "20: DiGraph with 475 nodes and 13289 edges\n",
            "22: DiGraph with 475 nodes and 13289 edges\n",
            "24: DiGraph with 475 nodes and 13289 edges\n",
            "26: DiGraph with 475 nodes and 13289 edges\n",
            "28: DiGraph with 475 nodes and 13289 edges\n",
            "30: DiGraph with 475 nodes and 13289 edges\n",
<<<<<<< HEAD
            "Time elapsed: 48.592180490493774\n"
=======
            "Time elapsed: 45.082178354263306\n"
>>>>>>> main
          ]
        }
      ],
      "source": [
        "# evolve the network\n",
        "start = time.time()\n",
        "final_g = evolve_network(init_g, minorities)\n",
        "end = time.time()\n",
        "print(f\"Time elapsed: {end - start}\")"
      ]
    },
    {
      "cell_type": "markdown",
      "metadata": {},
      "source": [
        "## Write to Files"
      ]
    },
    {
      "cell_type": "code",
      "execution_count": 9,
      "metadata": {},
      "outputs": [
        {
<<<<<<< HEAD
          "ename": "NameError",
          "evalue": "name 'SUMMARY_PATH' is not defined",
          "output_type": "error",
          "traceback": [
            "\u001b[1;31m---------------------------------------------------------------------------\u001b[0m",
            "\u001b[1;31mNameError\u001b[0m                                 Traceback (most recent call last)",
            "Cell \u001b[1;32mIn[9], line 1\u001b[0m\n\u001b[1;32m----> 1\u001b[0m \u001b[39mwith\u001b[39;00m \u001b[39mopen\u001b[39m(SUMMARY_PATH, \u001b[39m'\u001b[39m\u001b[39mw\u001b[39m\u001b[39m'\u001b[39m) \u001b[39mas\u001b[39;00m f:\n\u001b[0;32m      2\u001b[0m     f\u001b[39m.\u001b[39mwrite(\u001b[39mf\u001b[39m\u001b[39m\"\u001b[39m\u001b[39mIterations: \u001b[39m\u001b[39m{\u001b[39;00mITERATIONS\u001b[39m}\u001b[39;00m\u001b[39m\\n\u001b[39;00m\u001b[39m\"\u001b[39m)\n\u001b[0;32m      3\u001b[0m     f\u001b[39m.\u001b[39mwrite(\u001b[39mf\u001b[39m\u001b[39m\"\u001b[39m\u001b[39mRemovals: \u001b[39m\u001b[39m{\u001b[39;00mrm\u001b[39m.\u001b[39m\u001b[39m__name__\u001b[39m\u001b[39m}\u001b[39;00m\u001b[39m\\n\u001b[39;00m\u001b[39m\"\u001b[39m)\n",
            "\u001b[1;31mNameError\u001b[0m: name 'SUMMARY_PATH' is not defined"
          ]
        }
      ],
      "source": [
        "# with open(SUMMARY_PATH, 'w') as f:\n",
        "#     f.write(f\"Iterations: {ITERATIONS}\\n\")\n",
        "#     f.write(f\"Removals: {rm.__name__}\\n\")\n",
        "#     f.write(f\"Predictions: {alg.__name__}\\n\")\n",
        "#     f.write(f\"Total number of nodes: {init_g.number_of_nodes()}\\n\")\n",
        "#     f.write(f\"Minority size: {len(minorities)}\\n\")"
=======
          "data": {
            "image/png": "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",
            "text/plain": [
              "<Figure size 1500x500 with 3 Axes>"
            ]
          },
          "metadata": {},
          "output_type": "display_data"
        }
      ],
      "source": [
        "# plot data\n",
        "metrics.plot_to_file(PLOT_PATH, ginis, clusters, visibilities)"
      ]
    },
    {
      "cell_type": "code",
      "execution_count": 10,
      "metadata": {},
      "outputs": [],
      "source": [
        "# write gini_coefficient to file\n",
        "metrics.list_to_file(GINI_PATH, ginis)"
      ]
    },
    {
      "cell_type": "code",
      "execution_count": 11,
      "metadata": {},
      "outputs": [],
      "source": [
        "# write gini_coefficient to file\n",
        "metrics.list_to_file(CLUSTERING_PATH, clusters)"
      ]
    },
    {
      "cell_type": "code",
      "execution_count": 12,
      "metadata": {},
      "outputs": [],
      "source": [
        "# write visibilities to file\n",
        "metrics.list_to_file(VISIBILITY_PATH, visibilities)"
      ]
    },
    {
      "cell_type": "code",
      "execution_count": 13,
      "metadata": {},
      "outputs": [],
      "source": [
        "with open(SUMMARY_PATH, 'w') as f:\n",
        "    f.write(f\"Iterations: {ITERATIONS}\\n\")\n",
        "    f.write(f\"Removals: {rm.__name__}\\n\")\n",
        "    f.write(f\"Predictions: {alg.__name__}\\n\")\n",
        "    f.write(f\"Total number of nodes: {init_g.number_of_nodes()}\\n\")\n",
        "    f.write(f\"Minority size: {len(minorities)}\\n\")"
>>>>>>> main
      ]
    }
  ],
  "metadata": {
    "colab": {
      "provenance": []
    },
    "kernelspec": {
      "display_name": "Python 3",
      "name": "python3"
    },
    "language_info": {
      "codemirror_mode": {
        "name": "ipython",
        "version": 3
      },
      "file_extension": ".py",
      "mimetype": "text/x-python",
      "name": "python",
      "nbconvert_exporter": "python",
      "pygments_lexer": "ipython3",
      "version": "3.11.4"
    }
  },
  "nbformat": 4,
  "nbformat_minor": 0
}
