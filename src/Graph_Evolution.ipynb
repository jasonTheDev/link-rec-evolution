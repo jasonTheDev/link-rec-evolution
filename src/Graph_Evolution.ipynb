{
  "cells": [
    {
      "attachments": {},
      "cell_type": "markdown",
      "metadata": {},
      "source": [
        "# Graph Evolution\n",
        "\n",
        "Graph evolution for given algorithms and dataset."
      ]
    },
    {
      "cell_type": "code",
      "execution_count": 1,
      "metadata": {
        "id": "z0x0M25pcMnw"
      },
      "outputs": [],
      "source": [
        "import os\n",
        "import random\n",
        "import time\n",
        "import numpy as np\n",
        "import networkx as nx\n",
        "\n",
        "# local imports\n",
        "import graph_evolution_metrics as metrics\n",
        "\n",
        "# Seed for reproducibility\n",
        "random.seed(42)"
      ]
    },
    {
      "cell_type": "code",
      "execution_count": 2,
      "metadata": {},
      "outputs": [],
      "source": [
        "## CHANGE TO MATCH ALG AND DATASET\n",
        "\n",
        "# Module of alg being used\n",
        "import fair_ppagerank as alg\n",
        "import random_removal_per_node as rm\n",
        "\n",
        "# Name of dataset being used\n",
        "# Directed: wiki_vote, congress, email_eu\n",
        "# Undirected: facebook, deezer, lastfm\n",
        "\n",
        "BASENAME, DIRECTED = \"congress\", True\n",
        "# BASENAME, DIRECTED = \"email_eu\", True\n",
        "# BASENAME, DIRECTED = \"wiki_vote\", True\n",
        "# BASENAME, DIRECTED = \"facebook\", False\n",
        "# BASENAME, DIRECTED = \"lastfm\", False\n",
        "# BASENAME, DIRECTED = \"deezer\", False\n"
      ]
    },
    {
      "cell_type": "code",
      "execution_count": 3,
      "metadata": {},
      "outputs": [],
      "source": [
        "## PARAMS\n",
        "\n",
        "# Graph Evolution\n",
        "ITERATIONS = 30"
      ]
    },
    {
      "cell_type": "code",
      "execution_count": 4,
      "metadata": {},
      "outputs": [],
      "source": [
        "# Constants for I/O\n",
        "INPUT_DIR = \"../input\"\n",
        "OUTPUT_DIR = \"../data\"\n",
        "\n",
        "OUTPUT_PREFIX = BASENAME + \".\" + alg.__name__\n",
        "\n",
        "CLUSTERING_PATH = os.path.join(OUTPUT_DIR, OUTPUT_PREFIX + \".clu\")\n",
        "GINI_PATH = os.path.join(OUTPUT_DIR, OUTPUT_PREFIX + \".gin\")\n",
        "VISIBILITY_PATH = os.path.join(OUTPUT_DIR, OUTPUT_PREFIX + \".vis\")\n",
        "SUMMARY_PATH = os.path.join(OUTPUT_DIR, OUTPUT_PREFIX + \".sum\")\n",
        "PLOT_PATH = os.path.join(OUTPUT_DIR, OUTPUT_PREFIX + \".png\")\n",
        "\n",
        "EDGELIST = BASENAME + \".txt\"\n",
        "MINORITIES = BASENAME + \".minorities\"\n",
        "EDGELIST_PATH = os.path.join(INPUT_DIR, EDGELIST)\n",
        "MINORITIES_PATH = os.path.join(INPUT_DIR, MINORITIES)"
      ]
    },
    {
      "cell_type": "code",
      "execution_count": 5,
      "metadata": {},
      "outputs": [],
      "source": [
        "init_g = nx.read_edgelist(EDGELIST_PATH, create_using=nx.DiGraph(), nodetype=int)\n",
        "\n",
        "if not DIRECTED:\n",
        "    # keep as DiGraph but add edges in opposite direction\n",
        "    init_g.add_edges_from([(v, u) for u, v in init_g.edges()])"
      ]
    },
    {
      "attachments": {},
      "cell_type": "markdown",
      "metadata": {},
      "source": [
        "## Network Evolution Following Wagner's Methods"
      ]
    },
    {
      "cell_type": "code",
      "execution_count": 6,
      "metadata": {},
      "outputs": [],
      "source": [
        "def add_edges(nx_g, edges):\n",
        "    \"\"\"\n",
        "    Adds edges to given graph.\n",
        "    \"\"\"\n",
        "    nx_g.add_edges_from(edges)\n",
        "    if not DIRECTED:\n",
        "        nx_g.add_edges_from([(v, u) for (u, v) in edges])\n",
        "\n",
        "\n",
        "def remove_edges(nx_g, edges):\n",
        "    \"\"\"\n",
        "    Removes edges from given graph.\n",
        "    \"\"\"\n",
        "    nx_g.remove_edges_from(edges)\n",
        "    if not DIRECTED:\n",
        "        nx_g.remove_edges_from([(v, u) for (u, v) in edges])\n",
        "\n",
        "    \n",
        "# IMPORTANT: we do deletions to keep a baseline for the clustering coefficient and \n",
        "# see the effect of the algorithm on the graphs structure\n",
        "def evolve_network(nx_g, minorities):\n",
        "    \"\"\"\n",
        "    Iteratively evolve the network by adding and removing edges.\n",
        "    \"\"\"\n",
        "    # initial metrics\n",
        "    ginis = [metrics.gini_of_degree_distribution(nx_g)]\n",
        "    clusters = [nx.average_clustering(nx_g)]\n",
        "    visibilities = []\n",
        "    if DIRECTED:\n",
        "        visibilities.append(metrics.pagerank_visibility(nx_g, minorities))\n",
        "    else:\n",
        "        visibilities.append(metrics.eigenvector_visibility(nx_g, minorities))\n",
        "\n",
        "    # prepare for algorithm\n",
        "    nx_g = alg.initialize(nx_g, directed=DIRECTED, protected=minorities)\n",
        "\n",
        "    print(\"Iteration\")\n",
        "    print(f\"0: {nx_g}\")\n",
        "\n",
        "    for i in range(1, ITERATIONS+1):\n",
        "\n",
        "        predictions = alg.predict(nx_g, directed=DIRECTED)\n",
        "        add_edges(nx_g, predictions)\n",
        "\n",
        "        removals = rm.removals(nx_g, directed=DIRECTED)\n",
        "        remove_edges(nx_g, removals)\n",
        "\n",
        "        # compute metrics\n",
        "        ginis.append(metrics.gini_of_degree_distribution(nx_g))\n",
        "        clusters.append(metrics.average_clustering(nx_g))\n",
        "        if DIRECTED:\n",
        "            visibilities.append(metrics.pagerank_visibility(nx_g, minorities))\n",
        "        else:\n",
        "            visibilities.append(metrics.eigenvector_visibility(nx_g, minorities))\n",
        "  \n",
        "        if i % 2 == 0:\n",
        "            print(f\"{i}: {nx_g}\")\n",
        "    \n",
        "    return ginis, clusters, visibilities"
      ]
    },
    {
      "cell_type": "code",
      "execution_count": 7,
      "metadata": {},
      "outputs": [
        {
          "name": "stdout",
          "output_type": "stream",
          "text": [
            "Minority size: 71\n"
          ]
        }
      ],
      "source": [
        "minorities = []\n",
        "with open(MINORITIES_PATH, \"r\") as f:\n",
        "    for line in f:\n",
        "        node = int(line.strip())\n",
        "        minorities.append(node)\n",
        "\n",
        "print(f\"Minority size: {len(minorities)}\")"
      ]
    },
    {
      "cell_type": "code",
      "execution_count": 8,
      "metadata": {},
      "outputs": [
        {
          "name": "stdout",
          "output_type": "stream",
          "text": [
            "Iteration\n",
            "0: DiGraph with 475 nodes and 13289 edges\n",
            "2: DiGraph with 475 nodes and 13289 edges\n",
            "4: DiGraph with 475 nodes and 13289 edges\n",
            "6: DiGraph with 475 nodes and 13289 edges\n",
            "8: DiGraph with 475 nodes and 13289 edges\n",
            "10: DiGraph with 475 nodes and 13289 edges\n",
            "12: DiGraph with 475 nodes and 13289 edges\n",
            "14: DiGraph with 475 nodes and 13289 edges\n",
            "16: DiGraph with 475 nodes and 13289 edges\n",
            "18: DiGraph with 475 nodes and 13289 edges\n",
            "20: DiGraph with 475 nodes and 13289 edges\n",
            "22: DiGraph with 475 nodes and 13289 edges\n",
            "24: DiGraph with 475 nodes and 13289 edges\n",
            "26: DiGraph with 475 nodes and 13289 edges\n",
            "28: DiGraph with 475 nodes and 13289 edges\n",
            "30: DiGraph with 475 nodes and 13289 edges\n",
            "Time elapsed: 470.4462080001831\n"
          ]
        }
      ],
      "source": [
        "# evolve the network\n",
        "start = time.time()\n",
        "ginis, clusters, visibilities = evolve_network(init_g, minorities)\n",
        "end = time.time()\n",
        "print(f\"Time elapsed: {end - start}\")"
      ]
    },
    {
      "cell_type": "markdown",
      "metadata": {},
      "source": [
        "## Write to Files"
      ]
    },
    {
      "cell_type": "code",
      "execution_count": 9,
      "metadata": {},
      "outputs": [
        {
          "data": {
            "image/png": "[encoded data removed]",
            "text/plain": [
              "<Figure size 1500x500 with 3 Axes>"
            ]
          },
          "metadata": {},
          "output_type": "display_data"
        }
      ],
      "source": [
        "# plot data\n",
        "metrics.plot_to_file(PLOT_PATH, ginis, clusters, visibilities)"
      ]
    },
    {
      "cell_type": "code",
      "execution_count": 10,
      "metadata": {},
      "outputs": [],
      "source": [
        "# write gini_coefficient to file\n",
        "metrics.list_to_file(GINI_PATH, ginis)"
      ]
    },
    {
      "cell_type": "code",
      "execution_count": 11,
      "metadata": {},
      "outputs": [],
      "source": [
        "# write gini_coefficient to file\n",
        "metrics.list_to_file(CLUSTERING_PATH, clusters)"
      ]
    },
    {
      "cell_type": "code",
      "execution_count": 12,
      "metadata": {},
      "outputs": [],
      "source": [
        "# write visibilities to file\n",
        "metrics.list_to_file(VISIBILITY_PATH, visibilities)"
      ]
    },
    {
      "cell_type": "code",
      "execution_count": 13,
      "metadata": {},
      "outputs": [],
      "source": [
        "with open(SUMMARY_PATH, 'w') as f:\n",
        "    f.write(f\"Iterations: {ITERATIONS}\\n\")\n",
        "    f.write(f\"Removals: {rm.__name__}\\n\")\n",
        "    f.write(f\"Predictions: {alg.__name__}\\n\")\n",
        "    f.write(f\"Total number of nodes: {init_g.number_of_nodes()}\\n\")\n",
        "    f.write(f\"Minority size: {len(minorities)}\\n\")"
      ]
    }
  ],
  "metadata": {
    "colab": {
      "provenance": []
    },
    "kernelspec": {
      "display_name": "Python 3",
      "name": "python3"
    },
    "language_info": {
      "codemirror_mode": {
        "name": "ipython",
        "version": 3
      },
      "file_extension": ".py",
      "mimetype": "text/x-python",
      "name": "python",
      "nbconvert_exporter": "python",
      "pygments_lexer": "ipython3",
      "version": "3.11.4"
    }
  },
  "nbformat": 4,
  "nbformat_minor": 0
}
