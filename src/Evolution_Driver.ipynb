{
  "cells": [
    {
      "attachments": {},
      "cell_type": "markdown",
      "metadata": {},
      "source": [
        "# Graph Evolution\n",
        "\n",
        "Graph evolution for given algorithms and dataset."
      ]
    },
    {
      "cell_type": "code",
      "execution_count": 1,
      "metadata": {
        "id": "z0x0M25pcMnw"
      },
      "outputs": [],
      "source": [
        "import os\n",
        "import random\n",
        "import time\n",
        "import numpy as np\n",
        "import networkx as nx\n",
        "\n",
        "# local imports\n",
        "from metrics import Recorder\n",
        "\n",
        "# Seed for reproducibility\n",
        "random.seed(42)"
      ]
    },
    {
      "cell_type": "code",
      "execution_count": 2,
      "metadata": {},
      "outputs": [],
      "source": [
        "## CHANGE TO MATCH ALG AND DATASET\n",
        "import node2vec as alg\n",
        "from methods import Wagner2022 as Method"
      ]
    },
    {
      "cell_type": "code",
      "execution_count": 3,
      "metadata": {},
      "outputs": [],
      "source": [
        "# Name of dataset being used\n",
        "BASENAME, DIRECTED = \"congress\", True\n",
        "# BASENAME, DIRECTED = \"email_eu\", True\n",
        "# BASENAME, DIRECTED = \"wiki_vote\", True\n",
        "# BASENAME, DIRECTED = \"facebook\", False\n",
        "# BASENAME, DIRECTED = \"lastfm\", False\n",
        "# BASENAME, DIRECTED = \"deezer\", False\n",
        "\n",
        "# Graph Evolution\n",
        "ITERATIONS = 30\n",
        "\n",
        "# Metrics\n",
        "VISIBILITY_RATIO = 0.1"
      ]
    },
    {
      "cell_type": "code",
      "execution_count": 4,
      "metadata": {},
      "outputs": [],
      "source": [
        "# Constants for I/O\n",
        "INPUT_DIR = \"../input\"\n",
        "OUTPUT_DIR = \"../data\"\n",
        "\n",
        "OUTPUT_PREFIX = f\"{BASENAME}.{Method.__name__}.{alg.__name__}\"\n",
        "\n",
        "EDGELIST = BASENAME + \".txt\"\n",
        "MINORITIES = BASENAME + \".minorities\"\n",
        "EDGELIST_PATH = os.path.join(INPUT_DIR, EDGELIST)\n",
        "MINORITIES_PATH = os.path.join(INPUT_DIR, MINORITIES)"
      ]
    },
    {
      "cell_type": "code",
      "execution_count": 5,
      "metadata": {},
      "outputs": [],
      "source": [
        "init_g = nx.read_edgelist(EDGELIST_PATH, create_using=nx.DiGraph(), nodetype=int)\n",
        "\n",
        "if not DIRECTED:\n",
        "    # keep as DiGraph but add edges in opposite direction\n",
        "    init_g.add_edges_from([(v, u) for (u, v) in init_g.edges()])"
      ]
    },
    {
      "cell_type": "code",
      "execution_count": 6,
      "metadata": {},
      "outputs": [],
      "source": [
        "def degree_check(nx_g):\n",
        "    \"\"\"\n",
        "    Check that all nodes have degree > 1.\n",
        "    \"\"\"\n",
        "    for node in nx_g.nodes():\n",
        "        if nx_g.out_degree(node) < 1:\n",
        "            print(f\"Node {node} has zero out degree\")\n",
        "        elif nx_g.in_degree(node) < 1:\n",
        "            print(f\"Node {node} has zero in degree\")"
      ]
    },
    {
      "attachments": {},
      "cell_type": "markdown",
      "metadata": {},
      "source": [
        "## Network Evolution Following Wagner's Methods"
      ]
    },
    {
      "cell_type": "code",
      "execution_count": 7,
      "metadata": {},
      "outputs": [],
      "source": [
        "def add_edges(nx_g, edges):\n",
        "    \"\"\"\n",
        "    Adds edges to given graph.\n",
        "    \"\"\"\n",
        "    nx_g.add_edges_from(edges)\n",
        "    if not DIRECTED:\n",
        "        nx_g.add_edges_from([(v, u) for (u, v) in edges])\n",
        "\n",
        "\n",
        "def remove_edges(nx_g, edges):\n",
        "    \"\"\"\n",
        "    Removes edges from given graph.\n",
        "    \"\"\"\n",
        "    nx_g.remove_edges_from(edges)\n",
        "    if not DIRECTED:\n",
        "        nx_g.remove_edges_from([(v, u) for (u, v) in edges])\n",
        "\n",
        "    \n",
        "# IMPORTANT: we do deletions to keep a baseline for the clustering coefficient and \n",
        "# see the effect of the algorithm on the graphs structure\n",
        "def evolve_network(nx_g, minorities):\n",
        "    \"\"\"\n",
        "    Iteratively evolve the network by adding and removing edges.\n",
        "    \"\"\"\n",
        "    # initialize algorithm\n",
        "    nx_g = alg.initialize(nx_g, directed=DIRECTED, protected=minorities)\n",
        "\n",
        "    # initialize method\n",
        "    method = Method(nx_g, directed=DIRECTED, protected=minorities)\n",
        "\n",
        "    # initialize recorder\n",
        "    recorder = Recorder(directed=DIRECTED,\n",
        "                        protected=minorities,\n",
        "                        visibility_ratio=VISIBILITY_RATIO,\n",
        "                        output_dir=OUTPUT_DIR,\n",
        "                        output_prefix=OUTPUT_PREFIX)\n",
        "    \n",
        "    # initial metrics\n",
        "    recorder.clear_files()\n",
        "    recorder.record_metrics(nx_g)\n",
        "\n",
        "    print(\"Iteration\")\n",
        "    print(f\"0: {nx_g}\")\n",
        "\n",
        "    degree_check(nx_g)\n",
        "\n",
        "    for i in range(1, ITERATIONS+1):\n",
        "\n",
        "        to_predict = method.nodes_to_predict(nx_g)\n",
        "        predictions = alg.predict(nx_g, directed=DIRECTED, nodes=to_predict)\n",
        "        add_edges(nx_g, predictions)\n",
        "\n",
        "        removals = method.edges_to_remove(nx_g)\n",
        "        remove_edges(nx_g, removals)\n",
        "\n",
        "        # compute metrics\n",
        "        recorder.record_metrics(nx_g.copy())\n",
        "  \n",
        "        # if i % 2 == 0:\n",
        "        print(f\"{i}: {nx_g}\")\n",
        "\n",
        "        degree_check(nx_g)\n",
        "    \n",
        "    return recorder"
      ]
    },
    {
      "cell_type": "code",
      "execution_count": 8,
      "metadata": {},
      "outputs": [
        {
          "name": "stdout",
          "output_type": "stream",
          "text": [
            "Minority size: 71\n"
          ]
        }
      ],
      "source": [
        "minorities = []\n",
        "with open(MINORITIES_PATH, \"r\") as f:\n",
        "    for line in f:\n",
        "        node = int(line.strip())\n",
        "        minorities.append(node)\n",
        "\n",
        "print(f\"Minority size: {len(minorities)}\")"
      ]
    },
    {
      "cell_type": "code",
      "execution_count": 9,
      "metadata": {},
      "outputs": [
        {
          "name": "stdout",
          "output_type": "stream",
          "text": [
            "Iteration\n",
            "0: DiGraph with 475 nodes and 13289 edges\n",
            "Node 31 has zero in degree\n",
            "Node 227 has zero in degree\n",
            "Node 240 has zero in degree\n",
            "Node 356 has zero in degree\n",
            "Node 434 has zero in degree\n",
            "Node 456 has zero in degree\n",
            "1: DiGraph with 475 nodes and 13289 edges\n",
            "Node 456 has zero in degree\n",
            "2: DiGraph with 475 nodes and 13289 edges\n",
            "3: DiGraph with 475 nodes and 13289 edges\n",
            "4: DiGraph with 475 nodes and 13289 edges\n",
            "5: DiGraph with 475 nodes and 13289 edges\n",
            "6: DiGraph with 475 nodes and 13289 edges\n",
            "7: DiGraph with 475 nodes and 13289 edges\n",
            "8: DiGraph with 475 nodes and 13289 edges\n",
            "9: DiGraph with 475 nodes and 13289 edges\n",
            "10: DiGraph with 475 nodes and 13289 edges\n",
            "11: DiGraph with 475 nodes and 13289 edges\n",
            "12: DiGraph with 475 nodes and 13289 edges\n",
            "13: DiGraph with 475 nodes and 13289 edges\n",
            "14: DiGraph with 475 nodes and 13289 edges\n",
            "15: DiGraph with 475 nodes and 13289 edges\n",
            "16: DiGraph with 475 nodes and 13289 edges\n",
            "17: DiGraph with 475 nodes and 13289 edges\n",
            "18: DiGraph with 475 nodes and 13289 edges\n",
            "19: DiGraph with 475 nodes and 13289 edges\n",
            "20: DiGraph with 475 nodes and 13289 edges\n",
            "21: DiGraph with 475 nodes and 13289 edges\n",
            "22: DiGraph with 475 nodes and 13289 edges\n",
            "23: DiGraph with 475 nodes and 13289 edges\n",
            "24: DiGraph with 475 nodes and 13289 edges\n",
            "25: DiGraph with 475 nodes and 13289 edges\n",
            "26: DiGraph with 475 nodes and 13289 edges\n",
            "27: DiGraph with 475 nodes and 13289 edges\n",
            "28: DiGraph with 475 nodes and 13289 edges\n",
            "29: DiGraph with 475 nodes and 13289 edges\n",
            "30: DiGraph with 475 nodes and 13289 edges\n",
            "Time elapsed: 48.89474868774414\n"
          ]
        }
      ],
      "source": [
        "# evolve the network\n",
        "start = time.time()\n",
        "recorder = evolve_network(init_g, minorities)\n",
        "end = time.time()\n",
        "print(f\"Time elapsed: {end - start}\")"
      ]
    },
    {
      "cell_type": "markdown",
      "metadata": {},
      "source": [
        "## Summary"
      ]
    },
    {
      "cell_type": "code",
      "execution_count": 10,
      "metadata": {},
      "outputs": [
        {
          "data": {
            "image/png": "[encoded data removed]",
            "text/plain": [
              "<Figure size 1500x500 with 3 Axes>"
            ]
          },
          "metadata": {},
          "output_type": "display_data"
        }
      ],
      "source": [
        "# plot data\n",
        "recorder.plot_metrics()"
      ]
    }
  ],
  "metadata": {
    "colab": {
      "provenance": []
    },
    "kernelspec": {
      "display_name": "Python 3",
      "name": "python3"
    },
    "language_info": {
      "codemirror_mode": {
        "name": "ipython",
        "version": 3
      },
      "file_extension": ".py",
      "mimetype": "text/x-python",
      "name": "python",
      "nbconvert_exporter": "python",
      "pygments_lexer": "ipython3",
      "version": "3.11.4"
    }
  },
  "nbformat": 4,
  "nbformat_minor": 0
}
