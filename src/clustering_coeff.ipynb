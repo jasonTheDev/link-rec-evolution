{
 "cells": [
  {
   "cell_type": "code",
   "execution_count": 4,
   "metadata": {},
   "outputs": [
    {
     "name": "stdout",
     "output_type": "stream",
     "text": [
      "Number of Nodes: 7624\n",
      "Number of Edges: 27806\n",
      "Average Clustering Coefficient: 0.1097092121635429\n"
     ]
    }
   ],
   "source": [
    "import networkx as nx\n",
    "\n",
    "# Create a directed graph\n",
    "G = nx.DiGraph()\n",
    "\n",
    "# Read the file and add edges to the graph\n",
    "file_path = '../input/lastfm.txt'\n",
    "with open(file_path, 'r') as file:\n",
    "    for line in file:\n",
    "        # Assuming each line contains two node names separated by a space or comma\n",
    "        node1, node2 = line.strip().split()  # Modify this if the format is different\n",
    "        G.add_edge(node1, node2)\n",
    "\n",
    "# Compute the average clustering coefficient\n",
    "avg_clustering_coefficient = nx.average_clustering(G)\n",
    "\n",
    "# Print the number of nodes and edges\n",
    "print(\"Number of Nodes:\", G.number_of_nodes())\n",
    "print(\"Number of Edges:\", G.number_of_edges())\n",
    "\n",
    "# Print the average clustering coefficient\n",
    "print(\"Average Clustering Coefficient:\", avg_clustering_coefficient)\n"
   ]
  },
  {
   "cell_type": "code",
   "execution_count": 6,
   "metadata": {},
   "outputs": [
    {
     "name": "stdout",
     "output_type": "stream",
     "text": [
      "Number of Nodes: 28281\n",
      "Number of Edges: 92752\n",
      "Average Clustering Coefficient: 0.14115987333165522\n"
     ]
    }
   ],
   "source": [
    "import networkx as nx\n",
    "\n",
    "# Create an undirected graph\n",
    "G = nx.Graph()\n",
    "\n",
    "# Read the file and add edges to the graph\n",
    "file_path = '../input/deezer.txt'\n",
    "with open(file_path, 'r') as file:\n",
    "    for line in file:\n",
    "        # Assuming each line contains two node names separated by a space or comma\n",
    "        node1, node2 = line.strip().split()  # Modify this if the format is different\n",
    "        G.add_edge(node1, node2)\n",
    "\n",
    "# Compute the average clustering coefficient\n",
    "avg_clustering_coefficient = nx.average_clustering(G)\n",
    "\n",
    "# Print the number of nodes and edges\n",
    "print(\"Number of Nodes:\", G.number_of_nodes())\n",
    "print(\"Number of Edges:\", G.number_of_edges())\n",
    "\n",
    "# Print the average clustering coefficient\n",
    "print(\"Average Clustering Coefficient:\", avg_clustering_coefficient)\n"
   ]
  }
 ],
 "metadata": {
  "kernelspec": {
   "display_name": "base",
   "language": "python",
   "name": "python3"
  },
  "language_info": {
   "codemirror_mode": {
    "name": "ipython",
    "version": 3
   },
   "file_extension": ".py",
   "mimetype": "text/x-python",
   "name": "python",
   "nbconvert_exporter": "python",
   "pygments_lexer": "ipython3",
   "version": "3.9.13"
  }
 },
 "nbformat": 4,
 "nbformat_minor": 2
}
