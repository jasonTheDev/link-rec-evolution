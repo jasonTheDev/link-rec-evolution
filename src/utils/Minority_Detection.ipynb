{
  "cells": [
    {
      "attachments": {},
      "cell_type": "markdown",
      "metadata": {},
      "source": [
        "# Minority Detection\n",
        "\n",
        "Detect minority nodes of the listed datasets. Tuples of the `GRAPHS` list represent the basename of the dataset (edgelist file without suffix ex. .txt) and a flag for whether the graph is directed or not. True for directed and False for undirected.\n",
        "\n",
        "**NOTE** Regenerating on directed graphs can produced different results."
      ]
    },
    {
      "cell_type": "code",
      "execution_count": 1,
      "metadata": {
        "id": "z0x0M25pcMnw"
      },
      "outputs": [],
      "source": [
        "import os\n",
        "import networkx as nx\n",
        "\n",
        "# local imports\n",
        "import communities as cm"
      ]
    },
    {
      "cell_type": "code",
      "execution_count": 2,
      "metadata": {},
      "outputs": [],
      "source": [
        "# datasets\n",
        "CONGRESS = \"congress\", True\n",
        "EMAIL_EU = \"email_eu\", True\n",
        "WIKI_VOTE = \"wiki_vote\", True\n",
        "FACEBOOK = \"facebook\", False\n",
        "LASTFM = \"lastfm\", False\n",
        "DEEZER = \"deezer\", False\n",
        "\n",
        "GRAPHS = [ FACEBOOK ]\n",
        "\n",
        "INPUT_DIR = \"../../input/\"\n",
        "\n",
        "# Community Detection Threshold\n",
        "# Size for which a partition must be larger than to be\n",
        "# considered a community in this experiment.\n",
        "COMM_THRESHOLD = 2\n",
        "\n",
        "# Minority Detection Threshold\n",
        "# The ratio of nodes that are assigned to the minority group.\n",
        "MINORITY_RATIO = 0.15"
      ]
    },
    {
      "cell_type": "code",
      "execution_count": 3,
      "metadata": {},
      "outputs": [],
      "source": [
        "def list_to_file(file_path, values):\n",
        "    with open(file_path, 'w') as f:\n",
        "        for value in values:\n",
        "            f.write(str(value) + '\\n')"
      ]
    },
    {
      "cell_type": "code",
      "execution_count": 4,
      "metadata": {},
      "outputs": [],
      "source": [
        "for g, directed in GRAPHS:\n",
        "    graph_path = os.path.join(INPUT_DIR, g + \".txt\")\n",
        "    minorities_path = os.path.join(INPUT_DIR, g + \".minorities\")\n",
        "\n",
        "    # read graph\n",
        "    if directed:\n",
        "        G = nx.read_edgelist(graph_path, nodetype=int, create_using=nx.DiGraph())\n",
        "        comms = cm.directed_comms(G)\n",
        "    else:\n",
        "        G = nx.read_edgelist(graph_path, nodetype=int, create_using=nx.Graph())\n",
        "        comms = cm.undirected_comms(G)\n",
        "    \n",
        "    num_nodes = G.number_of_nodes()\n",
        "    num_minorities = round(num_nodes * MINORITY_RATIO)\n",
        "\n",
        "    # nodes sorted by comm size\n",
        "    comms.sort(key=len)\n",
        "    comms = [comm for comm in comms if len(comm) > COMM_THRESHOLD]\n",
        "    flat_comms = [node for comm in comms for node in comm]\n",
        "\n",
        "    # write minorities to file\n",
        "    minorities = flat_comms[:num_minorities]\n",
        "\n",
        "    assert len(set(minorities)) == len(minorities)\n",
        "    list_to_file(minorities_path, minorities)"
      ]
    }
  ],
  "metadata": {
    "colab": {
      "provenance": []
    },
    "kernelspec": {
      "display_name": "Python 3",
      "name": "python3"
    },
    "language_info": {
      "codemirror_mode": {
        "name": "ipython",
        "version": 3
      },
      "file_extension": ".py",
      "mimetype": "text/x-python",
      "name": "python",
      "nbconvert_exporter": "python",
      "pygments_lexer": "ipython3",
      "version": "3.11.4"
    }
  },
  "nbformat": 4,
  "nbformat_minor": 0
}
